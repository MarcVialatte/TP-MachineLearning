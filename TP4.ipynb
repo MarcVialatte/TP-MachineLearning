{
 "cells": [
  {
   "cell_type": "code",
   "execution_count": 2,
   "id": "4eab12f1-a12d-4e90-ac2a-e0020c6b352b",
   "metadata": {},
   "outputs": [],
   "source": [
    "import cv2\n",
    "import numpy as np\n",
    "\n",
    "img_path = \"Grosser_Panda.JPG\"\n",
    "img = cv2.imread(img_path)\n"
   ]
  },
  {
   "cell_type": "code",
   "execution_count": 3,
   "id": "a020dc55-23e7-49c8-a62c-5cd2d019ec3f",
   "metadata": {},
   "outputs": [],
   "source": [
    "# Question 1: Ajouter du Gaussian Noise\n",
    "\n",
    "noise = np.random.normal(0, 25, img.shape)\n",
    "noisy_image = np.clip(img + noise, 0, 255).astype(np.uint8)\n",
    "\n",
    "cv2.imshow('Original Image', img)\n",
    "cv2.imshow('Noisy Image', noisy_image)\n",
    "#cv2.waitKey(0)\n",
    "cv2.destroyAllWindows()"
   ]
  },
  {
   "cell_type": "code",
   "execution_count": 4,
   "id": "51a31513-c5e4-4e4a-99c4-3e0568c5aa48",
   "metadata": {},
   "outputs": [],
   "source": [
    "# Question 2: Ajouter du Salt and Pepper noise\n",
    "salt_and_pepper = np.random.choice([0, 1, 2], size=img.shape[:2], p=[0.9, 0.05, 0.05])\n",
    "noisy_image = np.copy(img)\n",
    "noisy_image[salt_and_pepper == 1] = 0\n",
    "noisy_image[salt_and_pepper == 2] = 255\n",
    "\n",
    "cv2.imshow('Original Image', img)\n",
    "cv2.imshow('Noisy Image', noisy_image)\n",
    "#cv2.waitKey(0)\n",
    "cv2.destroyAllWindows()"
   ]
  },
  {
   "cell_type": "code",
   "execution_count": 5,
   "id": "48827a9e-5053-4d34-9442-bd602ea7ec7d",
   "metadata": {},
   "outputs": [],
   "source": [
    "# Question 3 \n",
    "noise = np.random.normal(0, 25, img.shape)\n",
    "noisy_image = img + img * noise\n",
    "\n",
    "cv2.imshow('Original Image', img)\n",
    "cv2.imshow('Noisy Image', noisy_image)\n",
    "#cv2.waitKey(0)\n",
    "cv2.destroyAllWindows()"
   ]
  },
  {
   "cell_type": "code",
   "execution_count": 7,
   "id": "ac356d3f-a846-4955-ac3c-64acfe332347",
   "metadata": {},
   "outputs": [],
   "source": [
    "# Question 4 \n",
    "noise = np.random.poisson(img / 255.0 * 25) / 25.0 * 255\n",
    "noisy_image = np.clip(img + noise, 0, 255).astype(np.uint8)\n",
    "\n",
    "cv2.imshow('Original Image', img)\n",
    "cv2.imshow('Noisy Image', noisy_image)\n",
    "#cv2.waitKey(0)\n",
    "cv2.destroyAllWindows()"
   ]
  },
  {
   "cell_type": "code",
   "execution_count": null,
   "id": "fda63e2a-54ca-423b-9d32-077cdeea29ef",
   "metadata": {},
   "outputs": [],
   "source": [
    "# question 5 \n",
    "from keras.applications.mobilenet_v2 import MobileNetV2, preprocess_input, decode_predictions\n",
    "from keras.preprocessing import image\n",
    "import numpy as np\n",
    "\n",
    "# Charger le modèle MobileNetV2 pré-entraîné sur ImageNet\n",
    "model = MobileNetV2(weights='imagenet')\n",
    "\n",
    "# Charger l'image bruitée (remplacez 'noisy_image.jpg' par le chemin de votre image bruitée)\n",
    "'''\n",
    "img = image.load_img(noisy_image, target_size=(224, 224))\n",
    "x = image.img_to_array(img)\n",
    "x = np.expand_dims(x, axis=0)\n",
    "x = preprocess_input(x)\n",
    "\n",
    "# Faire des prédictions sur l'image bruitée\n",
    "predictions = model.predict(x)\n",
    "\n",
    "# Afficher les prédictions\n",
    "decoded_predictions = decode_predictions(predictions, top=3)[0]\n",
    "for i, (imagenet_id, label, score) in enumerate(decoded_predictions):\n",
    "    print(f\"{i + 1}: {label} ({score:.2f})\")\n",
    "'''"
   ]
  },
  {
   "cell_type": "code",
   "execution_count": null,
   "id": "61803a81-3e16-41cf-9683-80eae52c44ea",
   "metadata": {},
   "outputs": [],
   "source": []
  }
 ],
 "metadata": {
  "kernelspec": {
   "display_name": "Python 3 (ipykernel)",
   "language": "python",
   "name": "python3"
  },
  "language_info": {
   "codemirror_mode": {
    "name": "ipython",
    "version": 3
   },
   "file_extension": ".py",
   "mimetype": "text/x-python",
   "name": "python",
   "nbconvert_exporter": "python",
   "pygments_lexer": "ipython3",
   "version": "3.11.6"
  }
 },
 "nbformat": 4,
 "nbformat_minor": 5
}
